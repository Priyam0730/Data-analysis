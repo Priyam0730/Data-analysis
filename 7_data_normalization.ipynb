{
 "cells": [
  {
   "cell_type": "code",
   "execution_count": 2,
   "metadata": {},
   "outputs": [],
   "source": [
    "import pandas as pd\n",
    "import numpy as np"
   ]
  },
  {
   "cell_type": "code",
   "execution_count": 3,
   "metadata": {},
   "outputs": [],
   "source": [
    "path=\"D:/my own/automobile.csv\""
   ]
  },
  {
   "cell_type": "code",
   "execution_count": 4,
   "metadata": {},
   "outputs": [],
   "source": [
    "df=pd.read_csv(path)"
   ]
  },
  {
   "cell_type": "markdown",
   "metadata": {},
   "source": [
    "There are several ways to normalize data.\n",
    "some important 3 techniques are\n",
    "\n",
    " **simple feature scaling** \n",
    "\n",
    " $$X_{new} = \\frac{X_{old}}{X_{max}}$$\n",
    "\n",
    "This makes the new values range between 0 and 1.\n",
    "\n",
    "\n",
    "**Min-Max**\n",
    "\n",
    "$$X_{new} = \\frac{X_{old} - X_{min}}{X_{max} - X_{min}}$$\n",
    "\n",
    "\n",
    "the resulting new values range between 0 and 1.\n",
    "\n",
    "**z-score or standard score**\n",
    "\n",
    "$$X_{new} = \\frac{X_{old} - \\mu}{\\sigma}$$\n",
    "\n",
    "where ,\n",
    "$$\\mu(mean) = \\frac{\\sum x_i}{N}$$ \n",
    "$$\\sigma(Standard\n",
    " deviation) = \\sqrt{\\frac{\\sum (x_i - \\mu)^2}{N}}$$\n",
    "The resulting values hover around 0, and typically range between -3 and +3, but can be higher\n",
    "or lower."
   ]
  },
  {
   "cell_type": "markdown",
   "metadata": {},
   "source": [
    "**__Simple Feature Scaling__**"
   ]
  },
  {
   "cell_type": "code",
   "execution_count": 5,
   "metadata": {},
   "outputs": [
    {
     "data": {
      "text/plain": [
       "0    13495\n",
       "1    16500\n",
       "2    16500\n",
       "3    13950\n",
       "4    17450\n",
       "5    15250\n",
       "6    17710\n",
       "7    18920\n",
       "8    23875\n",
       "9    16430\n",
       "Name: price, dtype: int64"
      ]
     },
     "execution_count": 5,
     "metadata": {},
     "output_type": "execute_result"
    }
   ],
   "source": [
    "df.iloc[:10,25]"
   ]
  },
  {
   "cell_type": "code",
   "execution_count": 6,
   "metadata": {},
   "outputs": [],
   "source": [
    "df[\"price\"]=df[\"price\"]/df[\"price\"].max()"
   ]
  },
  {
   "cell_type": "code",
   "execution_count": 7,
   "metadata": {},
   "outputs": [
    {
     "data": {
      "text/plain": [
       "0    0.297247\n",
       "1    0.363436\n",
       "2    0.363436\n",
       "3    0.307269\n",
       "4    0.384361\n",
       "5    0.335903\n",
       "6    0.390088\n",
       "7    0.416740\n",
       "8    0.525881\n",
       "9    0.361894\n",
       "Name: price, dtype: float64"
      ]
     },
     "execution_count": 7,
     "metadata": {},
     "output_type": "execute_result"
    }
   ],
   "source": [
    "df.iloc[:10,25]"
   ]
  },
  {
   "cell_type": "markdown",
   "metadata": {},
   "source": [
    "**Min_Max Feature**"
   ]
  },
  {
   "cell_type": "code",
   "execution_count": 8,
   "metadata": {},
   "outputs": [
    {
     "data": {
      "text/plain": [
       "0    27\n",
       "1    27\n",
       "2    26\n",
       "3    30\n",
       "4    22\n",
       "5    25\n",
       "6    25\n",
       "7    25\n",
       "8    20\n",
       "9    29\n",
       "Name: highway-mpg, dtype: int64"
      ]
     },
     "execution_count": 8,
     "metadata": {},
     "output_type": "execute_result"
    }
   ],
   "source": [
    "df.iloc[:10,24]"
   ]
  },
  {
   "cell_type": "code",
   "execution_count": 9,
   "metadata": {},
   "outputs": [],
   "source": [
    "df[\"highway-mpg\"]=(df[\"highway-mpg\"]-df[\"highway-mpg\"].min()) / (df[\"highway-mpg\"].max()-df[\"highway-mpg\"].min())"
   ]
  },
  {
   "cell_type": "code",
   "execution_count": 10,
   "metadata": {},
   "outputs": [
    {
     "data": {
      "text/plain": [
       "0    0.289474\n",
       "1    0.289474\n",
       "2    0.263158\n",
       "3    0.368421\n",
       "4    0.157895\n",
       "5    0.236842\n",
       "6    0.236842\n",
       "7    0.236842\n",
       "8    0.105263\n",
       "9    0.342105\n",
       "Name: highway-mpg, dtype: float64"
      ]
     },
     "execution_count": 10,
     "metadata": {},
     "output_type": "execute_result"
    }
   ],
   "source": [
    "df.iloc[:10,24]"
   ]
  },
  {
   "cell_type": "markdown",
   "metadata": {},
   "source": [
    "**Z-Score Method**"
   ]
  },
  {
   "cell_type": "code",
   "execution_count": 11,
   "metadata": {},
   "outputs": [
    {
     "data": {
      "text/plain": [
       "0    168.8\n",
       "1    168.8\n",
       "2    171.2\n",
       "3    176.6\n",
       "4    176.6\n",
       "5    177.3\n",
       "6    192.7\n",
       "7    192.7\n",
       "8    192.7\n",
       "9    176.8\n",
       "Name: length, dtype: float64"
      ]
     },
     "execution_count": 11,
     "metadata": {},
     "output_type": "execute_result"
    }
   ],
   "source": [
    "df.iloc[:10,10]"
   ]
  },
  {
   "cell_type": "code",
   "execution_count": 12,
   "metadata": {},
   "outputs": [],
   "source": [
    "df[\"length\"]=(df[\"length\"] - df[\"length\"].mean() ) / df[\"length\"].std()"
   ]
  },
  {
   "cell_type": "code",
   "execution_count": 13,
   "metadata": {},
   "outputs": [
    {
     "data": {
      "text/plain": [
       "0   -0.438315\n",
       "1   -0.438315\n",
       "2   -0.243544\n",
       "3    0.194690\n",
       "4    0.194690\n",
       "5    0.251498\n",
       "6    1.501278\n",
       "7    1.501278\n",
       "8    1.501278\n",
       "9    0.210921\n",
       "Name: length, dtype: float64"
      ]
     },
     "execution_count": 13,
     "metadata": {},
     "output_type": "execute_result"
    }
   ],
   "source": [
    "df.iloc[:10,10]"
   ]
  },
  {
   "cell_type": "markdown",
   "metadata": {},
   "source": [
    "**Binning**\n",
    "\n",
    "Binning is when you group values together into bins. For example, you can bin “age”\n",
    "into [0 to 5], [6 to 10], [11 to 15] and so on.\n",
    "Sometimes, binning can improve accuracy of the predictive models\n",
    "\n",
    "In Python we can easily implement the binning: We would like 3 bins of equal binwidth, so\n",
    "we need 4 numbers as dividers that are equal distance apart.\n",
    "First we use the numpy function “linspace” to return the array “bins” that contains\n",
    "4 equally spaced numbers over the specified interval of the price.\n",
    "We create a list “group_names “ that contains the different bin names.\n",
    "We use the pandas function ”cut” to segment and sort the data values into bins."
   ]
  },
  {
   "cell_type": "code",
   "execution_count": 14,
   "metadata": {},
   "outputs": [],
   "source": [
    "ndf=pd.read_csv(path)"
   ]
  },
  {
   "cell_type": "code",
   "execution_count": 16,
   "metadata": {},
   "outputs": [],
   "source": [
    "# Step 1\n",
    "\n",
    "bins = np.linspace(min(df[\"price\"]),max(df[\"price\"]),4)"
   ]
  },
  {
   "cell_type": "code",
   "execution_count": 17,
   "metadata": {},
   "outputs": [],
   "source": [
    "# Step 2\n",
    "\n",
    "group_names=[\"Low\",\"Medium\",\"High\"]"
   ]
  },
  {
   "cell_type": "code",
   "execution_count": 18,
   "metadata": {},
   "outputs": [],
   "source": [
    "df[\"price-binned\"]=pd.cut(df[\"price\"], bins , labels=group_names, include_lowest=True)"
   ]
  },
  {
   "cell_type": "code",
   "execution_count": 20,
   "metadata": {},
   "outputs": [
    {
     "data": {
      "image/png": "[encoded data removed]",
      "text/plain": [
       "<Figure size 640x480 with 1 Axes>"
      ]
     },
     "metadata": {},
     "output_type": "display_data"
    }
   ],
   "source": [
    "import matplotlib.pyplot as plt\n",
    "\n",
    "bin_counts = df[\"price-binned\"].value_counts()\n",
    "bin_counts.plot(kind=\"bar\")\n",
    "plt.title(\"Frequency of Price Bins\")\n",
    "plt.xlabel(\"Price Bin\")\n",
    "plt.ylabel(\"Frequency\")\n",
    "plt.show()"
   ]
  },
  {
   "cell_type": "markdown",
   "metadata": {},
   "source": [
    "From the plot, it is clear that most cars have a low price, and only very few cars have\n",
    "high price."
   ]
  },
  {
   "cell_type": "markdown",
   "metadata": {},
   "source": []
  }
 ],
 "metadata": {
  "kernelspec": {
   "display_name": ".venv",
   "language": "python",
   "name": "python3"
  },
  "language_info": {
   "codemirror_mode": {
    "name": "ipython",
    "version": 3
   },
   "file_extension": ".py",
   "mimetype": "text/x-python",
   "name": "python",
   "nbconvert_exporter": "python",
   "pygments_lexer": "ipython3",
   "version": "3.12.4"
  }
 },
 "nbformat": 4,
 "nbformat_minor": 2
}
